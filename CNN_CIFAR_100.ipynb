{
  "nbformat": 4,
  "nbformat_minor": 0,
  "metadata": {
    "colab": {
      "name": "CNN CIFAR-100.ipynb",
      "provenance": []
    },
    "kernelspec": {
      "name": "python3",
      "display_name": "Python 3"
    },
    "accelerator": "GPU"
  },
  "cells": [
    {
      "cell_type": "code",
      "metadata": {
        "id": "9K9g3oXkdvOc"
      },
      "source": [
        "from tensorflow.keras.datasets import cifar100\n",
        "from tensorflow.keras.models import Sequential\n",
        "from tensorflow.keras.layers import Dense, Flatten, Conv2D, MaxPooling2D\n",
        "from tensorflow.keras.losses import sparse_categorical_crossentropy\n",
        "from tensorflow.keras.optimizers import Adam\n",
        "import matplotlib.pyplot as plt"
      ],
      "execution_count": 1,
      "outputs": []
    },
    {
      "cell_type": "code",
      "metadata": {
        "id": "0ZiU7RSGgGaP",
        "outputId": "4304b28f-51fd-41a4-cb6f-e124520a66c2",
        "colab": {
          "base_uri": "https://localhost:8080/",
          "height": 50
        }
      },
      "source": [
        "#Load data\n",
        "(train_images, train_labels), (test_images, test_labels) = cifar100.load_data()\n",
        "\n",
        "#Normalize pixel values b/w 0 and 1\n",
        "train_images, test_images = train_images/255.0 , test_images/255.0"
      ],
      "execution_count": 2,
      "outputs": [
        {
          "output_type": "stream",
          "text": [
            "Downloading data from https://www.cs.toronto.edu/~kriz/cifar-100-python.tar.gz\n",
            "169009152/169001437 [==============================] - 4s 0us/step\n"
          ],
          "name": "stdout"
        }
      ]
    },
    {
      "cell_type": "markdown",
      "metadata": {
        "id": "mlK-ksHJRBfa"
      },
      "source": [
        "###CNN MODEL"
      ]
    },
    {
      "cell_type": "code",
      "metadata": {
        "id": "SHSAVYmziWcF"
      },
      "source": [
        "#Create Convolution base\n",
        "\n",
        "model = Sequential()\n",
        "model.add(Conv2D(32, kernel_size=(3, 3), activation='relu', input_shape=(32,32,3)))\n",
        "model.add(MaxPooling2D(pool_size=(2, 2)))\n",
        "model.add(Conv2D(64, kernel_size=(3, 3), activation='relu'))\n",
        "model.add(MaxPooling2D(pool_size=(2, 2)))\n",
        "model.add(Conv2D(128, kernel_size=(3, 3), activation='relu'))\n",
        "model.add(MaxPooling2D(pool_size=(2, 2)))"
      ],
      "execution_count": 3,
      "outputs": []
    },
    {
      "cell_type": "code",
      "metadata": {
        "id": "WohGtJEEjjGI",
        "outputId": "235932bf-f5f4-4b33-ccf0-530df9aacf18",
        "colab": {
          "base_uri": "https://localhost:8080/",
          "height": 353
        }
      },
      "source": [
        "model.summary()"
      ],
      "execution_count": 4,
      "outputs": [
        {
          "output_type": "stream",
          "text": [
            "Model: \"sequential\"\n",
            "_________________________________________________________________\n",
            "Layer (type)                 Output Shape              Param #   \n",
            "=================================================================\n",
            "conv2d (Conv2D)              (None, 30, 30, 32)        896       \n",
            "_________________________________________________________________\n",
            "max_pooling2d (MaxPooling2D) (None, 15, 15, 32)        0         \n",
            "_________________________________________________________________\n",
            "conv2d_1 (Conv2D)            (None, 13, 13, 64)        18496     \n",
            "_________________________________________________________________\n",
            "max_pooling2d_1 (MaxPooling2 (None, 6, 6, 64)          0         \n",
            "_________________________________________________________________\n",
            "conv2d_2 (Conv2D)            (None, 4, 4, 128)         73856     \n",
            "_________________________________________________________________\n",
            "max_pooling2d_2 (MaxPooling2 (None, 2, 2, 128)         0         \n",
            "=================================================================\n",
            "Total params: 93,248\n",
            "Trainable params: 93,248\n",
            "Non-trainable params: 0\n",
            "_________________________________________________________________\n"
          ],
          "name": "stdout"
        }
      ]
    },
    {
      "cell_type": "code",
      "metadata": {
        "id": "IVz6TeBej9jF"
      },
      "source": [
        "#Flatten \n",
        "\n",
        "model.add(Flatten())\n",
        "\n",
        "model.add(Dense(256, activation='relu'))\n",
        "model.add(Dense(128, activation='relu'))\n",
        "model.add(Dense(100, activation='softmax'))"
      ],
      "execution_count": 5,
      "outputs": []
    },
    {
      "cell_type": "code",
      "metadata": {
        "id": "njtwmUfTkfP-",
        "outputId": "2f08d23c-e244-41ea-c71c-dbcd337df652",
        "colab": {
          "base_uri": "https://localhost:8080/",
          "height": 487
        }
      },
      "source": [
        "model.summary()"
      ],
      "execution_count": 6,
      "outputs": [
        {
          "output_type": "stream",
          "text": [
            "Model: \"sequential\"\n",
            "_________________________________________________________________\n",
            "Layer (type)                 Output Shape              Param #   \n",
            "=================================================================\n",
            "conv2d (Conv2D)              (None, 30, 30, 32)        896       \n",
            "_________________________________________________________________\n",
            "max_pooling2d (MaxPooling2D) (None, 15, 15, 32)        0         \n",
            "_________________________________________________________________\n",
            "conv2d_1 (Conv2D)            (None, 13, 13, 64)        18496     \n",
            "_________________________________________________________________\n",
            "max_pooling2d_1 (MaxPooling2 (None, 6, 6, 64)          0         \n",
            "_________________________________________________________________\n",
            "conv2d_2 (Conv2D)            (None, 4, 4, 128)         73856     \n",
            "_________________________________________________________________\n",
            "max_pooling2d_2 (MaxPooling2 (None, 2, 2, 128)         0         \n",
            "_________________________________________________________________\n",
            "flatten (Flatten)            (None, 512)               0         \n",
            "_________________________________________________________________\n",
            "dense (Dense)                (None, 256)               131328    \n",
            "_________________________________________________________________\n",
            "dense_1 (Dense)              (None, 128)               32896     \n",
            "_________________________________________________________________\n",
            "dense_2 (Dense)              (None, 100)               12900     \n",
            "=================================================================\n",
            "Total params: 270,372\n",
            "Trainable params: 270,372\n",
            "Non-trainable params: 0\n",
            "_________________________________________________________________\n"
          ],
          "name": "stdout"
        }
      ]
    },
    {
      "cell_type": "code",
      "metadata": {
        "id": "wiQpkxYlkhX8",
        "outputId": "5092e06d-95fb-4cb3-de75-68732ab76659",
        "colab": {
          "base_uri": "https://localhost:8080/",
          "height": 1000
        }
      },
      "source": [
        "#Compile the model\n",
        "model.compile(optimizer='adam', loss='sparse_categorical_crossentropy', metrics=['accuracy'])\n",
        "history = model.fit(train_images, train_labels, epochs = 100, validation_data=(test_images, test_labels))"
      ],
      "execution_count": 7,
      "outputs": [
        {
          "output_type": "stream",
          "text": [
            "Epoch 1/100\n",
            "1563/1563 [==============================] - 6s 4ms/step - loss: 3.9553 - accuracy: 0.0911 - val_loss: 3.4630 - val_accuracy: 0.1682\n",
            "Epoch 2/100\n",
            "1563/1563 [==============================] - 5s 3ms/step - loss: 3.2411 - accuracy: 0.2067 - val_loss: 3.0506 - val_accuracy: 0.2485\n",
            "Epoch 3/100\n",
            "1563/1563 [==============================] - 5s 3ms/step - loss: 2.9192 - accuracy: 0.2681 - val_loss: 2.8746 - val_accuracy: 0.2860\n",
            "Epoch 4/100\n",
            "1563/1563 [==============================] - 5s 3ms/step - loss: 2.6911 - accuracy: 0.3152 - val_loss: 2.7396 - val_accuracy: 0.3119\n",
            "Epoch 5/100\n",
            "1563/1563 [==============================] - 5s 3ms/step - loss: 2.5087 - accuracy: 0.3522 - val_loss: 2.6800 - val_accuracy: 0.3310\n",
            "Epoch 6/100\n",
            "1563/1563 [==============================] - 5s 3ms/step - loss: 2.3581 - accuracy: 0.3826 - val_loss: 2.6402 - val_accuracy: 0.3389\n",
            "Epoch 7/100\n",
            "1563/1563 [==============================] - 5s 3ms/step - loss: 2.2193 - accuracy: 0.4150 - val_loss: 2.5749 - val_accuracy: 0.3596\n",
            "Epoch 8/100\n",
            "1563/1563 [==============================] - 5s 3ms/step - loss: 2.0984 - accuracy: 0.4387 - val_loss: 2.5631 - val_accuracy: 0.3677\n",
            "Epoch 9/100\n",
            "1563/1563 [==============================] - 5s 3ms/step - loss: 1.9929 - accuracy: 0.4601 - val_loss: 2.5938 - val_accuracy: 0.3613\n",
            "Epoch 10/100\n",
            "1563/1563 [==============================] - 5s 3ms/step - loss: 1.8970 - accuracy: 0.4837 - val_loss: 2.6045 - val_accuracy: 0.3647\n",
            "Epoch 11/100\n",
            "1563/1563 [==============================] - 5s 3ms/step - loss: 1.7978 - accuracy: 0.5066 - val_loss: 2.6313 - val_accuracy: 0.3722\n",
            "Epoch 12/100\n",
            "1563/1563 [==============================] - 5s 3ms/step - loss: 1.7087 - accuracy: 0.5260 - val_loss: 2.6436 - val_accuracy: 0.3741\n",
            "Epoch 13/100\n",
            "1563/1563 [==============================] - 5s 3ms/step - loss: 1.6255 - accuracy: 0.5459 - val_loss: 2.7277 - val_accuracy: 0.3604\n",
            "Epoch 14/100\n",
            "1563/1563 [==============================] - 5s 3ms/step - loss: 1.5466 - accuracy: 0.5647 - val_loss: 2.7955 - val_accuracy: 0.3686\n",
            "Epoch 15/100\n",
            "1563/1563 [==============================] - 5s 3ms/step - loss: 1.4660 - accuracy: 0.5829 - val_loss: 2.8090 - val_accuracy: 0.3766\n",
            "Epoch 16/100\n",
            "1563/1563 [==============================] - 5s 3ms/step - loss: 1.3963 - accuracy: 0.5996 - val_loss: 2.9806 - val_accuracy: 0.3611\n",
            "Epoch 17/100\n",
            "1563/1563 [==============================] - 5s 3ms/step - loss: 1.3308 - accuracy: 0.6151 - val_loss: 3.0210 - val_accuracy: 0.3644\n",
            "Epoch 18/100\n",
            "1563/1563 [==============================] - 5s 3ms/step - loss: 1.2651 - accuracy: 0.6329 - val_loss: 3.1876 - val_accuracy: 0.3649\n",
            "Epoch 19/100\n",
            "1563/1563 [==============================] - 5s 3ms/step - loss: 1.2003 - accuracy: 0.6489 - val_loss: 3.2800 - val_accuracy: 0.3531\n",
            "Epoch 20/100\n",
            "1563/1563 [==============================] - 5s 3ms/step - loss: 1.1557 - accuracy: 0.6574 - val_loss: 3.3271 - val_accuracy: 0.3571\n",
            "Epoch 21/100\n",
            "1563/1563 [==============================] - 6s 4ms/step - loss: 1.0974 - accuracy: 0.6732 - val_loss: 3.4738 - val_accuracy: 0.3531\n",
            "Epoch 22/100\n",
            "1563/1563 [==============================] - 5s 3ms/step - loss: 1.0377 - accuracy: 0.6884 - val_loss: 3.5525 - val_accuracy: 0.3433\n",
            "Epoch 23/100\n",
            "1563/1563 [==============================] - 5s 3ms/step - loss: 0.9915 - accuracy: 0.7000 - val_loss: 3.7955 - val_accuracy: 0.3459\n",
            "Epoch 24/100\n",
            "1563/1563 [==============================] - 5s 3ms/step - loss: 0.9508 - accuracy: 0.7101 - val_loss: 3.8500 - val_accuracy: 0.3405\n",
            "Epoch 25/100\n",
            "1563/1563 [==============================] - 5s 3ms/step - loss: 0.9135 - accuracy: 0.7211 - val_loss: 3.8709 - val_accuracy: 0.3437\n",
            "Epoch 26/100\n",
            "1563/1563 [==============================] - 5s 3ms/step - loss: 0.8701 - accuracy: 0.7354 - val_loss: 4.1279 - val_accuracy: 0.3362\n",
            "Epoch 27/100\n",
            "1563/1563 [==============================] - 5s 3ms/step - loss: 0.8354 - accuracy: 0.7451 - val_loss: 4.2228 - val_accuracy: 0.3406\n",
            "Epoch 28/100\n",
            "1563/1563 [==============================] - 5s 4ms/step - loss: 0.8085 - accuracy: 0.7495 - val_loss: 4.5323 - val_accuracy: 0.3374\n",
            "Epoch 29/100\n",
            "1563/1563 [==============================] - 5s 3ms/step - loss: 0.7652 - accuracy: 0.7620 - val_loss: 4.6874 - val_accuracy: 0.3348\n",
            "Epoch 30/100\n",
            "1563/1563 [==============================] - 5s 3ms/step - loss: 0.7531 - accuracy: 0.7617 - val_loss: 4.5987 - val_accuracy: 0.3308\n",
            "Epoch 31/100\n",
            "1563/1563 [==============================] - 5s 3ms/step - loss: 0.7308 - accuracy: 0.7713 - val_loss: 4.6206 - val_accuracy: 0.3277\n",
            "Epoch 32/100\n",
            "1563/1563 [==============================] - 5s 3ms/step - loss: 0.6973 - accuracy: 0.7808 - val_loss: 4.9813 - val_accuracy: 0.3282\n",
            "Epoch 33/100\n",
            "1563/1563 [==============================] - 5s 3ms/step - loss: 0.6804 - accuracy: 0.7838 - val_loss: 5.0355 - val_accuracy: 0.3353\n",
            "Epoch 34/100\n",
            "1563/1563 [==============================] - 5s 3ms/step - loss: 0.6644 - accuracy: 0.7889 - val_loss: 5.1853 - val_accuracy: 0.3326\n",
            "Epoch 35/100\n",
            "1563/1563 [==============================] - 5s 3ms/step - loss: 0.6519 - accuracy: 0.7938 - val_loss: 5.4414 - val_accuracy: 0.3133\n",
            "Epoch 36/100\n",
            "1563/1563 [==============================] - 5s 3ms/step - loss: 0.6277 - accuracy: 0.8014 - val_loss: 5.4098 - val_accuracy: 0.3299\n",
            "Epoch 37/100\n",
            "1563/1563 [==============================] - 5s 3ms/step - loss: 0.5995 - accuracy: 0.8101 - val_loss: 5.6783 - val_accuracy: 0.3267\n",
            "Epoch 38/100\n",
            "1563/1563 [==============================] - 5s 3ms/step - loss: 0.6159 - accuracy: 0.8058 - val_loss: 5.8221 - val_accuracy: 0.3250\n",
            "Epoch 39/100\n",
            "1563/1563 [==============================] - 5s 3ms/step - loss: 0.5823 - accuracy: 0.8131 - val_loss: 5.8487 - val_accuracy: 0.3321\n",
            "Epoch 40/100\n",
            "1563/1563 [==============================] - 5s 3ms/step - loss: 0.5793 - accuracy: 0.8175 - val_loss: 6.0027 - val_accuracy: 0.3227\n",
            "Epoch 41/100\n",
            "1563/1563 [==============================] - 5s 3ms/step - loss: 0.5570 - accuracy: 0.8233 - val_loss: 6.1643 - val_accuracy: 0.3255\n",
            "Epoch 42/100\n",
            "1563/1563 [==============================] - 5s 3ms/step - loss: 0.5599 - accuracy: 0.8222 - val_loss: 6.2369 - val_accuracy: 0.3217\n",
            "Epoch 43/100\n",
            "1563/1563 [==============================] - 5s 3ms/step - loss: 0.5387 - accuracy: 0.8314 - val_loss: 6.5089 - val_accuracy: 0.3147\n",
            "Epoch 44/100\n",
            "1563/1563 [==============================] - 5s 3ms/step - loss: 0.5573 - accuracy: 0.8243 - val_loss: 6.4034 - val_accuracy: 0.3200\n",
            "Epoch 45/100\n",
            "1563/1563 [==============================] - 5s 3ms/step - loss: 0.5422 - accuracy: 0.8298 - val_loss: 6.5529 - val_accuracy: 0.3208\n",
            "Epoch 46/100\n",
            "1563/1563 [==============================] - 5s 3ms/step - loss: 0.5179 - accuracy: 0.8365 - val_loss: 6.6290 - val_accuracy: 0.3168\n",
            "Epoch 47/100\n",
            "1563/1563 [==============================] - 5s 3ms/step - loss: 0.5081 - accuracy: 0.8401 - val_loss: 6.7121 - val_accuracy: 0.3207\n",
            "Epoch 48/100\n",
            "1563/1563 [==============================] - 5s 3ms/step - loss: 0.5133 - accuracy: 0.8380 - val_loss: 6.9663 - val_accuracy: 0.3240\n",
            "Epoch 49/100\n",
            "1563/1563 [==============================] - 5s 3ms/step - loss: 0.5118 - accuracy: 0.8397 - val_loss: 7.0255 - val_accuracy: 0.3202\n",
            "Epoch 50/100\n",
            "1563/1563 [==============================] - 5s 3ms/step - loss: 0.4933 - accuracy: 0.8467 - val_loss: 7.0142 - val_accuracy: 0.3183\n",
            "Epoch 51/100\n",
            "1563/1563 [==============================] - 5s 3ms/step - loss: 0.5071 - accuracy: 0.8434 - val_loss: 7.2529 - val_accuracy: 0.3271\n",
            "Epoch 52/100\n",
            "1563/1563 [==============================] - 5s 3ms/step - loss: 0.4945 - accuracy: 0.8451 - val_loss: 7.3336 - val_accuracy: 0.3178\n",
            "Epoch 53/100\n",
            "1563/1563 [==============================] - 5s 3ms/step - loss: 0.4953 - accuracy: 0.8469 - val_loss: 7.3871 - val_accuracy: 0.3210\n",
            "Epoch 54/100\n",
            "1563/1563 [==============================] - 5s 3ms/step - loss: 0.4907 - accuracy: 0.8479 - val_loss: 7.3817 - val_accuracy: 0.3132\n",
            "Epoch 55/100\n",
            "1563/1563 [==============================] - 5s 3ms/step - loss: 0.4720 - accuracy: 0.8532 - val_loss: 7.5534 - val_accuracy: 0.3157\n",
            "Epoch 56/100\n",
            "1563/1563 [==============================] - 5s 3ms/step - loss: 0.4917 - accuracy: 0.8494 - val_loss: 7.4625 - val_accuracy: 0.3137\n",
            "Epoch 57/100\n",
            "1563/1563 [==============================] - 5s 3ms/step - loss: 0.4665 - accuracy: 0.8545 - val_loss: 7.6947 - val_accuracy: 0.3113\n",
            "Epoch 58/100\n",
            "1563/1563 [==============================] - 5s 3ms/step - loss: 0.4806 - accuracy: 0.8531 - val_loss: 7.5385 - val_accuracy: 0.3126\n",
            "Epoch 59/100\n",
            "1563/1563 [==============================] - 5s 3ms/step - loss: 0.4755 - accuracy: 0.8559 - val_loss: 7.9132 - val_accuracy: 0.3127\n",
            "Epoch 60/100\n",
            "1563/1563 [==============================] - 5s 3ms/step - loss: 0.4694 - accuracy: 0.8571 - val_loss: 7.9635 - val_accuracy: 0.3113\n",
            "Epoch 61/100\n",
            "1563/1563 [==============================] - 5s 3ms/step - loss: 0.4564 - accuracy: 0.8603 - val_loss: 7.9796 - val_accuracy: 0.3166\n",
            "Epoch 62/100\n",
            "1563/1563 [==============================] - 5s 3ms/step - loss: 0.4403 - accuracy: 0.8638 - val_loss: 8.1937 - val_accuracy: 0.3065\n",
            "Epoch 63/100\n",
            "1563/1563 [==============================] - 5s 3ms/step - loss: 0.4683 - accuracy: 0.8597 - val_loss: 8.0009 - val_accuracy: 0.3144\n",
            "Epoch 64/100\n",
            "1563/1563 [==============================] - 5s 3ms/step - loss: 0.4452 - accuracy: 0.8640 - val_loss: 8.1882 - val_accuracy: 0.3173\n",
            "Epoch 65/100\n",
            "1563/1563 [==============================] - 5s 3ms/step - loss: 0.4487 - accuracy: 0.8647 - val_loss: 8.0847 - val_accuracy: 0.3161\n",
            "Epoch 66/100\n",
            "1563/1563 [==============================] - 5s 3ms/step - loss: 0.4439 - accuracy: 0.8651 - val_loss: 8.2715 - val_accuracy: 0.3085\n",
            "Epoch 67/100\n",
            "1563/1563 [==============================] - 5s 3ms/step - loss: 0.4650 - accuracy: 0.8600 - val_loss: 8.3670 - val_accuracy: 0.3130\n",
            "Epoch 68/100\n",
            "1563/1563 [==============================] - 5s 3ms/step - loss: 0.4333 - accuracy: 0.8676 - val_loss: 8.6685 - val_accuracy: 0.3111\n",
            "Epoch 69/100\n",
            "1563/1563 [==============================] - 5s 3ms/step - loss: 0.4476 - accuracy: 0.8658 - val_loss: 8.5430 - val_accuracy: 0.3159\n",
            "Epoch 70/100\n",
            "1563/1563 [==============================] - 5s 3ms/step - loss: 0.4542 - accuracy: 0.8646 - val_loss: 8.7422 - val_accuracy: 0.3086\n",
            "Epoch 71/100\n",
            "1563/1563 [==============================] - 5s 3ms/step - loss: 0.4480 - accuracy: 0.8688 - val_loss: 8.7315 - val_accuracy: 0.3157\n",
            "Epoch 72/100\n",
            "1563/1563 [==============================] - 5s 3ms/step - loss: 0.4394 - accuracy: 0.8693 - val_loss: 8.5442 - val_accuracy: 0.3173\n",
            "Epoch 73/100\n",
            "1563/1563 [==============================] - 5s 3ms/step - loss: 0.4446 - accuracy: 0.8662 - val_loss: 8.7430 - val_accuracy: 0.3076\n",
            "Epoch 74/100\n",
            "1563/1563 [==============================] - 5s 3ms/step - loss: 0.4144 - accuracy: 0.8755 - val_loss: 8.8991 - val_accuracy: 0.3169\n",
            "Epoch 75/100\n",
            "1563/1563 [==============================] - 5s 3ms/step - loss: 0.4544 - accuracy: 0.8669 - val_loss: 8.8422 - val_accuracy: 0.3102\n",
            "Epoch 76/100\n",
            "1563/1563 [==============================] - 5s 3ms/step - loss: 0.4280 - accuracy: 0.8727 - val_loss: 8.9934 - val_accuracy: 0.3193\n",
            "Epoch 77/100\n",
            "1563/1563 [==============================] - 5s 3ms/step - loss: 0.4472 - accuracy: 0.8680 - val_loss: 9.1563 - val_accuracy: 0.3081\n",
            "Epoch 78/100\n",
            "1563/1563 [==============================] - 5s 3ms/step - loss: 0.4207 - accuracy: 0.8760 - val_loss: 8.9399 - val_accuracy: 0.3073\n",
            "Epoch 79/100\n",
            "1563/1563 [==============================] - 5s 3ms/step - loss: 0.4343 - accuracy: 0.8723 - val_loss: 9.2099 - val_accuracy: 0.3030\n",
            "Epoch 80/100\n",
            "1563/1563 [==============================] - 5s 3ms/step - loss: 0.4392 - accuracy: 0.8727 - val_loss: 9.2800 - val_accuracy: 0.3105\n",
            "Epoch 81/100\n",
            "1563/1563 [==============================] - 6s 4ms/step - loss: 0.4092 - accuracy: 0.8791 - val_loss: 9.2999 - val_accuracy: 0.3087\n",
            "Epoch 82/100\n",
            "1563/1563 [==============================] - 5s 4ms/step - loss: 0.4129 - accuracy: 0.8797 - val_loss: 9.1436 - val_accuracy: 0.3101\n",
            "Epoch 83/100\n",
            "1563/1563 [==============================] - 5s 3ms/step - loss: 0.4098 - accuracy: 0.8809 - val_loss: 9.3263 - val_accuracy: 0.3054\n",
            "Epoch 84/100\n",
            "1563/1563 [==============================] - 5s 3ms/step - loss: 0.4262 - accuracy: 0.8750 - val_loss: 9.5811 - val_accuracy: 0.3129\n",
            "Epoch 85/100\n",
            "1563/1563 [==============================] - 5s 3ms/step - loss: 0.4262 - accuracy: 0.8768 - val_loss: 9.4985 - val_accuracy: 0.3148\n",
            "Epoch 86/100\n",
            "1563/1563 [==============================] - 5s 3ms/step - loss: 0.4155 - accuracy: 0.8787 - val_loss: 9.6863 - val_accuracy: 0.3128\n",
            "Epoch 87/100\n",
            "1563/1563 [==============================] - 5s 3ms/step - loss: 0.4190 - accuracy: 0.8797 - val_loss: 9.7082 - val_accuracy: 0.3116\n",
            "Epoch 88/100\n",
            "1563/1563 [==============================] - 5s 3ms/step - loss: 0.4141 - accuracy: 0.8816 - val_loss: 9.6066 - val_accuracy: 0.3055\n",
            "Epoch 89/100\n",
            "1563/1563 [==============================] - 5s 3ms/step - loss: 0.4066 - accuracy: 0.8817 - val_loss: 9.9125 - val_accuracy: 0.3061\n",
            "Epoch 90/100\n",
            "1563/1563 [==============================] - 5s 3ms/step - loss: 0.4075 - accuracy: 0.8813 - val_loss: 9.9422 - val_accuracy: 0.3090\n",
            "Epoch 91/100\n",
            "1563/1563 [==============================] - 5s 3ms/step - loss: 0.4078 - accuracy: 0.8815 - val_loss: 9.9639 - val_accuracy: 0.3147\n",
            "Epoch 92/100\n",
            "1563/1563 [==============================] - 5s 3ms/step - loss: 0.4117 - accuracy: 0.8827 - val_loss: 9.9714 - val_accuracy: 0.3075\n",
            "Epoch 93/100\n",
            "1563/1563 [==============================] - 5s 3ms/step - loss: 0.4204 - accuracy: 0.8802 - val_loss: 9.7939 - val_accuracy: 0.3103\n",
            "Epoch 94/100\n",
            "1563/1563 [==============================] - 5s 3ms/step - loss: 0.4070 - accuracy: 0.8831 - val_loss: 9.9906 - val_accuracy: 0.3078\n",
            "Epoch 95/100\n",
            "1563/1563 [==============================] - 5s 3ms/step - loss: 0.3924 - accuracy: 0.8872 - val_loss: 9.9966 - val_accuracy: 0.3162\n",
            "Epoch 96/100\n",
            "1563/1563 [==============================] - 5s 3ms/step - loss: 0.4115 - accuracy: 0.8831 - val_loss: 10.0363 - val_accuracy: 0.3109\n",
            "Epoch 97/100\n",
            "1563/1563 [==============================] - 5s 3ms/step - loss: 0.4143 - accuracy: 0.8833 - val_loss: 10.2050 - val_accuracy: 0.3104\n",
            "Epoch 98/100\n",
            "1563/1563 [==============================] - 5s 3ms/step - loss: 0.3936 - accuracy: 0.8883 - val_loss: 10.1056 - val_accuracy: 0.3151\n",
            "Epoch 99/100\n",
            "1563/1563 [==============================] - 5s 3ms/step - loss: 0.3918 - accuracy: 0.8891 - val_loss: 10.3053 - val_accuracy: 0.3094\n",
            "Epoch 100/100\n",
            "1563/1563 [==============================] - 5s 3ms/step - loss: 0.3945 - accuracy: 0.8872 - val_loss: 10.3885 - val_accuracy: 0.3138\n"
          ],
          "name": "stdout"
        }
      ]
    },
    {
      "cell_type": "code",
      "metadata": {
        "id": "xFUernkslRbv",
        "outputId": "44f3d6e6-08f0-49e0-b6b7-0c4d92ebfd07",
        "colab": {
          "base_uri": "https://localhost:8080/",
          "height": 300
        }
      },
      "source": [
        "plt.plot(history.history['accuracy'], label='accuracy')\n",
        "plt.plot(history.history['val_accuracy'], label='val_accuracy')\n",
        "plt.xlabel('Epoch')\n",
        "plt.ylabel('Accuracy')\n",
        "plt.ylim([0,1])\n",
        "plt.legend(loc='lower right')\n",
        "\n",
        "test_loss, test_acc = model.evaluate(test_images, test_labels)"
      ],
      "execution_count": 8,
      "outputs": [
        {
          "output_type": "stream",
          "text": [
            "313/313 [==============================] - 1s 2ms/step - loss: 10.3885 - accuracy: 0.3138\n"
          ],
          "name": "stdout"
        },
        {
          "output_type": "display_data",
          "data": {
            "image/png": "[encoded data removed]",
            "text/plain": [
              "<Figure size 432x288 with 1 Axes>"
            ]
          },
          "metadata": {
            "tags": [],
            "needs_background": "light"
          }
        }
      ]
    },
    {
      "cell_type": "code",
      "metadata": {
        "id": "bxCRxLjom-tt",
        "outputId": "2ebc8876-dbbd-4815-9155-c7f02175de78",
        "colab": {
          "base_uri": "https://localhost:8080/",
          "height": 34
        }
      },
      "source": [
        "print(test_acc)"
      ],
      "execution_count": 9,
      "outputs": [
        {
          "output_type": "stream",
          "text": [
            "0.31380000710487366\n"
          ],
          "name": "stdout"
        }
      ]
    },
    {
      "cell_type": "markdown",
      "metadata": {
        "id": "y9LWlWjeRUcT"
      },
      "source": [
        "### FEED FORWARD NEURAL NETWORK"
      ]
    },
    {
      "cell_type": "code",
      "metadata": {
        "id": "ZqG-9uzYnaXF",
        "outputId": "f8c94ba2-7e6a-4122-d5de-05f29ce83267",
        "colab": {
          "base_uri": "https://localhost:8080/",
          "height": 823
        }
      },
      "source": [
        "model.add(Flatten(input_shape=(32,32,3)))\n",
        "model.add(Dense(500, activation='relu'))\n",
        "model.add(Dense(300, activation='relu'))\n",
        "model.add(Dense(256, activation='relu'))\n",
        "model.add(Dense(128, activation='relu'))\n",
        "model.add(Dense(100, activation='softmax'))\n",
        "model.summary()"
      ],
      "execution_count": 13,
      "outputs": [
        {
          "output_type": "stream",
          "text": [
            "Model: \"sequential\"\n",
            "_________________________________________________________________\n",
            "Layer (type)                 Output Shape              Param #   \n",
            "=================================================================\n",
            "conv2d (Conv2D)              (None, 30, 30, 32)        896       \n",
            "_________________________________________________________________\n",
            "max_pooling2d (MaxPooling2D) (None, 15, 15, 32)        0         \n",
            "_________________________________________________________________\n",
            "conv2d_1 (Conv2D)            (None, 13, 13, 64)        18496     \n",
            "_________________________________________________________________\n",
            "max_pooling2d_1 (MaxPooling2 (None, 6, 6, 64)          0         \n",
            "_________________________________________________________________\n",
            "conv2d_2 (Conv2D)            (None, 4, 4, 128)         73856     \n",
            "_________________________________________________________________\n",
            "max_pooling2d_2 (MaxPooling2 (None, 2, 2, 128)         0         \n",
            "_________________________________________________________________\n",
            "flatten (Flatten)            (None, 512)               0         \n",
            "_________________________________________________________________\n",
            "dense (Dense)                (None, 256)               131328    \n",
            "_________________________________________________________________\n",
            "dense_1 (Dense)              (None, 128)               32896     \n",
            "_________________________________________________________________\n",
            "dense_2 (Dense)              (None, 100)               12900     \n",
            "_________________________________________________________________\n",
            "flatten_1 (Flatten)          (None, 100)               0         \n",
            "_________________________________________________________________\n",
            "dense_3 (Dense)              (None, 256)               25856     \n",
            "_________________________________________________________________\n",
            "dense_4 (Dense)              (None, 128)               32896     \n",
            "_________________________________________________________________\n",
            "dense_5 (Dense)              (None, 100)               12900     \n",
            "_________________________________________________________________\n",
            "flatten_2 (Flatten)          (None, 100)               0         \n",
            "_________________________________________________________________\n",
            "dense_6 (Dense)              (None, 500)               50500     \n",
            "_________________________________________________________________\n",
            "dense_7 (Dense)              (None, 300)               150300    \n",
            "_________________________________________________________________\n",
            "dense_8 (Dense)              (None, 256)               77056     \n",
            "_________________________________________________________________\n",
            "dense_9 (Dense)              (None, 128)               32896     \n",
            "_________________________________________________________________\n",
            "dense_10 (Dense)             (None, 100)               12900     \n",
            "=================================================================\n",
            "Total params: 665,676\n",
            "Trainable params: 665,676\n",
            "Non-trainable params: 0\n",
            "_________________________________________________________________\n"
          ],
          "name": "stdout"
        }
      ]
    },
    {
      "cell_type": "code",
      "metadata": {
        "id": "OnkI7gTJRe_O",
        "outputId": "9acc4fa6-cfc1-43f1-e57e-8b2be4c084da",
        "colab": {
          "base_uri": "https://localhost:8080/",
          "height": 1000
        }
      },
      "source": [
        "#Compile the model\n",
        "model.compile(optimizer='adam', loss='sparse_categorical_crossentropy', metrics=['accuracy'])\n",
        "history = model.fit(train_images, train_labels, epochs = 100, validation_data=(test_images, test_labels))"
      ],
      "execution_count": 14,
      "outputs": [
        {
          "output_type": "stream",
          "text": [
            "Epoch 1/100\n",
            "1563/1563 [==============================] - 7s 4ms/step - loss: 4.5763 - accuracy: 0.0127 - val_loss: 4.5710 - val_accuracy: 0.0139\n",
            "Epoch 2/100\n",
            "1563/1563 [==============================] - 7s 5ms/step - loss: 4.5715 - accuracy: 0.0132 - val_loss: 4.5683 - val_accuracy: 0.0139\n",
            "Epoch 3/100\n",
            "1563/1563 [==============================] - 7s 4ms/step - loss: 4.5708 - accuracy: 0.0130 - val_loss: 4.5799 - val_accuracy: 0.0140\n",
            "Epoch 4/100\n",
            "1563/1563 [==============================] - 7s 4ms/step - loss: 4.5706 - accuracy: 0.0132 - val_loss: 4.5685 - val_accuracy: 0.0140\n",
            "Epoch 5/100\n",
            "1563/1563 [==============================] - 7s 4ms/step - loss: 4.5703 - accuracy: 0.0136 - val_loss: 4.5677 - val_accuracy: 0.0141\n",
            "Epoch 6/100\n",
            "1563/1563 [==============================] - 6s 4ms/step - loss: 4.5700 - accuracy: 0.0129 - val_loss: 4.5677 - val_accuracy: 0.0140\n",
            "Epoch 7/100\n",
            "1563/1563 [==============================] - 6s 4ms/step - loss: 4.5700 - accuracy: 0.0139 - val_loss: 4.5683 - val_accuracy: 0.0140\n",
            "Epoch 8/100\n",
            "1563/1563 [==============================] - 6s 4ms/step - loss: 4.5697 - accuracy: 0.0126 - val_loss: 4.5696 - val_accuracy: 0.0139\n",
            "Epoch 9/100\n",
            "1563/1563 [==============================] - 6s 4ms/step - loss: 4.5697 - accuracy: 0.0136 - val_loss: 4.5696 - val_accuracy: 0.0140\n",
            "Epoch 10/100\n",
            "1563/1563 [==============================] - 6s 4ms/step - loss: 4.5696 - accuracy: 0.0134 - val_loss: 4.5702 - val_accuracy: 0.0140\n",
            "Epoch 11/100\n",
            "1563/1563 [==============================] - 6s 4ms/step - loss: 4.5693 - accuracy: 0.0134 - val_loss: 4.5715 - val_accuracy: 0.0140\n",
            "Epoch 12/100\n",
            "1563/1563 [==============================] - 6s 4ms/step - loss: 4.5693 - accuracy: 0.0137 - val_loss: 4.5723 - val_accuracy: 0.0140\n",
            "Epoch 13/100\n",
            "1563/1563 [==============================] - 6s 4ms/step - loss: 4.5691 - accuracy: 0.0135 - val_loss: 4.5719 - val_accuracy: 0.0140\n",
            "Epoch 14/100\n",
            "1563/1563 [==============================] - 6s 4ms/step - loss: 4.5693 - accuracy: 0.0135 - val_loss: 4.5721 - val_accuracy: 0.0139\n",
            "Epoch 15/100\n",
            "1563/1563 [==============================] - 6s 4ms/step - loss: 4.5693 - accuracy: 0.0129 - val_loss: 4.5704 - val_accuracy: 0.0139\n",
            "Epoch 16/100\n",
            "1563/1563 [==============================] - 7s 5ms/step - loss: 4.5691 - accuracy: 0.0130 - val_loss: 4.5709 - val_accuracy: 0.0141\n",
            "Epoch 17/100\n",
            "1563/1563 [==============================] - 6s 4ms/step - loss: 4.5690 - accuracy: 0.0133 - val_loss: 4.5711 - val_accuracy: 0.0141\n",
            "Epoch 18/100\n",
            "1563/1563 [==============================] - 6s 4ms/step - loss: 4.5689 - accuracy: 0.0135 - val_loss: 4.5712 - val_accuracy: 0.0141\n",
            "Epoch 19/100\n",
            "1563/1563 [==============================] - 7s 4ms/step - loss: 4.5688 - accuracy: 0.0134 - val_loss: 4.5713 - val_accuracy: 0.0141\n",
            "Epoch 20/100\n",
            "1563/1563 [==============================] - 7s 4ms/step - loss: 4.5685 - accuracy: 0.0128 - val_loss: 4.5717 - val_accuracy: 0.0141\n",
            "Epoch 21/100\n",
            "1563/1563 [==============================] - 7s 5ms/step - loss: 4.5683 - accuracy: 0.0134 - val_loss: 4.5720 - val_accuracy: 0.0141\n",
            "Epoch 22/100\n",
            "1563/1563 [==============================] - 8s 5ms/step - loss: 4.5683 - accuracy: 0.0140 - val_loss: 4.5726 - val_accuracy: 0.0141\n",
            "Epoch 23/100\n",
            "1563/1563 [==============================] - 6s 4ms/step - loss: 4.5683 - accuracy: 0.0134 - val_loss: 4.5728 - val_accuracy: 0.0141\n",
            "Epoch 24/100\n",
            "1563/1563 [==============================] - 6s 4ms/step - loss: 4.5682 - accuracy: 0.0134 - val_loss: 4.5727 - val_accuracy: 0.0141\n",
            "Epoch 25/100\n",
            "1563/1563 [==============================] - 6s 4ms/step - loss: 4.5680 - accuracy: 0.0134 - val_loss: 4.5731 - val_accuracy: 0.0140\n",
            "Epoch 26/100\n",
            "1563/1563 [==============================] - 7s 4ms/step - loss: 4.5680 - accuracy: 0.0130 - val_loss: 4.5729 - val_accuracy: 0.0141\n",
            "Epoch 27/100\n",
            "1563/1563 [==============================] - 7s 4ms/step - loss: 4.5681 - accuracy: 0.0137 - val_loss: 4.5729 - val_accuracy: 0.0141\n",
            "Epoch 28/100\n",
            "1563/1563 [==============================] - 6s 4ms/step - loss: 4.5680 - accuracy: 0.0131 - val_loss: 4.5730 - val_accuracy: 0.0140\n",
            "Epoch 29/100\n",
            "1563/1563 [==============================] - 7s 4ms/step - loss: 4.5680 - accuracy: 0.0136 - val_loss: 4.5732 - val_accuracy: 0.0141\n",
            "Epoch 30/100\n",
            "1563/1563 [==============================] - 6s 4ms/step - loss: 4.5679 - accuracy: 0.0129 - val_loss: 4.5735 - val_accuracy: 0.0140\n",
            "Epoch 31/100\n",
            "1563/1563 [==============================] - 7s 4ms/step - loss: 4.5679 - accuracy: 0.0132 - val_loss: 4.5735 - val_accuracy: 0.0140\n",
            "Epoch 32/100\n",
            "1563/1563 [==============================] - 7s 4ms/step - loss: 4.5678 - accuracy: 0.0132 - val_loss: 4.5731 - val_accuracy: 0.0140\n",
            "Epoch 33/100\n",
            "1563/1563 [==============================] - 6s 4ms/step - loss: 4.5678 - accuracy: 0.0129 - val_loss: 4.5737 - val_accuracy: 0.0140\n",
            "Epoch 34/100\n",
            "1563/1563 [==============================] - 6s 4ms/step - loss: 4.5677 - accuracy: 0.0134 - val_loss: 4.5742 - val_accuracy: 0.0140\n",
            "Epoch 35/100\n",
            "1563/1563 [==============================] - 6s 4ms/step - loss: 4.5679 - accuracy: 0.0133 - val_loss: 4.5729 - val_accuracy: 0.0139\n",
            "Epoch 36/100\n",
            "1563/1563 [==============================] - 6s 4ms/step - loss: 4.5678 - accuracy: 0.0128 - val_loss: 4.5735 - val_accuracy: 0.0140\n",
            "Epoch 37/100\n",
            "1563/1563 [==============================] - 6s 4ms/step - loss: 4.5677 - accuracy: 0.0129 - val_loss: 4.5752 - val_accuracy: 0.0140\n",
            "Epoch 38/100\n",
            "1563/1563 [==============================] - 6s 4ms/step - loss: 4.5678 - accuracy: 0.0136 - val_loss: 4.5752 - val_accuracy: 0.0140\n",
            "Epoch 39/100\n",
            "1563/1563 [==============================] - 6s 4ms/step - loss: 4.5678 - accuracy: 0.0133 - val_loss: 4.5747 - val_accuracy: 0.0140\n",
            "Epoch 40/100\n",
            "1563/1563 [==============================] - 7s 4ms/step - loss: 4.5678 - accuracy: 0.0138 - val_loss: 4.5747 - val_accuracy: 0.0140\n",
            "Epoch 41/100\n",
            "1563/1563 [==============================] - 7s 4ms/step - loss: 4.5677 - accuracy: 0.0133 - val_loss: 4.5745 - val_accuracy: 0.0140\n",
            "Epoch 42/100\n",
            "1563/1563 [==============================] - 7s 4ms/step - loss: 4.5677 - accuracy: 0.0133 - val_loss: 4.5742 - val_accuracy: 0.0140\n",
            "Epoch 43/100\n",
            "1563/1563 [==============================] - 6s 4ms/step - loss: 4.5677 - accuracy: 0.0128 - val_loss: 4.5749 - val_accuracy: 0.0140\n",
            "Epoch 44/100\n",
            "1563/1563 [==============================] - 6s 4ms/step - loss: 4.5676 - accuracy: 0.0135 - val_loss: 4.5737 - val_accuracy: 0.0140\n",
            "Epoch 45/100\n",
            "1563/1563 [==============================] - 6s 4ms/step - loss: 4.5677 - accuracy: 0.0130 - val_loss: 4.5763 - val_accuracy: 0.0140\n",
            "Epoch 46/100\n",
            "1563/1563 [==============================] - 7s 4ms/step - loss: 4.5676 - accuracy: 0.0134 - val_loss: 4.5760 - val_accuracy: 0.0140\n",
            "Epoch 47/100\n",
            "1563/1563 [==============================] - 7s 4ms/step - loss: 4.5677 - accuracy: 0.0128 - val_loss: 4.5756 - val_accuracy: 0.0141\n",
            "Epoch 48/100\n",
            "1563/1563 [==============================] - 7s 4ms/step - loss: 4.5677 - accuracy: 0.0132 - val_loss: 4.5763 - val_accuracy: 0.0140\n",
            "Epoch 49/100\n",
            "1563/1563 [==============================] - 6s 4ms/step - loss: 4.5676 - accuracy: 0.0138 - val_loss: 4.5762 - val_accuracy: 0.0140\n",
            "Epoch 50/100\n",
            "1563/1563 [==============================] - 7s 4ms/step - loss: 4.5677 - accuracy: 0.0130 - val_loss: 4.5749 - val_accuracy: 0.0140\n",
            "Epoch 51/100\n",
            "1563/1563 [==============================] - 7s 4ms/step - loss: 4.5676 - accuracy: 0.0130 - val_loss: 4.5763 - val_accuracy: 0.0141\n",
            "Epoch 52/100\n",
            "1563/1563 [==============================] - 6s 4ms/step - loss: 4.5677 - accuracy: 0.0134 - val_loss: 4.5753 - val_accuracy: 0.0141\n",
            "Epoch 53/100\n",
            "1563/1563 [==============================] - 6s 4ms/step - loss: 4.5675 - accuracy: 0.0129 - val_loss: 4.5754 - val_accuracy: 0.0141\n",
            "Epoch 54/100\n",
            "1563/1563 [==============================] - 7s 4ms/step - loss: 4.5675 - accuracy: 0.0135 - val_loss: 4.5748 - val_accuracy: 0.0140\n",
            "Epoch 55/100\n",
            "1563/1563 [==============================] - 7s 4ms/step - loss: 4.5675 - accuracy: 0.0132 - val_loss: 4.5753 - val_accuracy: 0.0141\n",
            "Epoch 56/100\n",
            "1563/1563 [==============================] - 7s 4ms/step - loss: 4.5676 - accuracy: 0.0127 - val_loss: 4.5736 - val_accuracy: 0.0140\n",
            "Epoch 57/100\n",
            "1563/1563 [==============================] - 6s 4ms/step - loss: 4.5675 - accuracy: 0.0133 - val_loss: 4.5741 - val_accuracy: 0.0140\n",
            "Epoch 58/100\n",
            "1563/1563 [==============================] - 6s 4ms/step - loss: 4.5676 - accuracy: 0.0129 - val_loss: 4.5736 - val_accuracy: 0.0140\n",
            "Epoch 59/100\n",
            "1563/1563 [==============================] - 7s 4ms/step - loss: 4.5676 - accuracy: 0.0136 - val_loss: 4.5738 - val_accuracy: 0.0140\n",
            "Epoch 60/100\n",
            "1563/1563 [==============================] - 6s 4ms/step - loss: 4.5677 - accuracy: 0.0126 - val_loss: 4.5739 - val_accuracy: 0.0138\n",
            "Epoch 61/100\n",
            "1563/1563 [==============================] - 7s 4ms/step - loss: 4.5685 - accuracy: 0.0132 - val_loss: 4.5749 - val_accuracy: 0.0139\n",
            "Epoch 62/100\n",
            "1563/1563 [==============================] - 7s 4ms/step - loss: 4.5675 - accuracy: 0.0128 - val_loss: 4.5747 - val_accuracy: 0.0140\n",
            "Epoch 63/100\n",
            "1563/1563 [==============================] - 7s 4ms/step - loss: 4.5675 - accuracy: 0.0130 - val_loss: 4.5746 - val_accuracy: 0.0140\n",
            "Epoch 64/100\n",
            "1563/1563 [==============================] - 7s 4ms/step - loss: 4.5676 - accuracy: 0.0131 - val_loss: 4.5745 - val_accuracy: 0.0140\n",
            "Epoch 65/100\n",
            "1563/1563 [==============================] - 7s 4ms/step - loss: 4.5675 - accuracy: 0.0138 - val_loss: 4.5746 - val_accuracy: 0.0140\n",
            "Epoch 66/100\n",
            "1563/1563 [==============================] - 6s 4ms/step - loss: 4.5675 - accuracy: 0.0132 - val_loss: 4.5737 - val_accuracy: 0.0140\n",
            "Epoch 67/100\n",
            "1563/1563 [==============================] - 6s 4ms/step - loss: 4.5675 - accuracy: 0.0132 - val_loss: 4.5743 - val_accuracy: 0.0140\n",
            "Epoch 68/100\n",
            "1563/1563 [==============================] - 7s 4ms/step - loss: 4.5675 - accuracy: 0.0136 - val_loss: 4.5741 - val_accuracy: 0.0140\n",
            "Epoch 69/100\n",
            "1563/1563 [==============================] - 7s 5ms/step - loss: 4.5675 - accuracy: 0.0134 - val_loss: 4.5756 - val_accuracy: 0.0140\n",
            "Epoch 70/100\n",
            "1563/1563 [==============================] - 6s 4ms/step - loss: 4.5675 - accuracy: 0.0134 - val_loss: 4.5743 - val_accuracy: 0.0140\n",
            "Epoch 71/100\n",
            "1563/1563 [==============================] - 6s 4ms/step - loss: 4.5675 - accuracy: 0.0138 - val_loss: 4.5741 - val_accuracy: 0.0140\n",
            "Epoch 72/100\n",
            "1563/1563 [==============================] - 6s 4ms/step - loss: 4.5676 - accuracy: 0.0132 - val_loss: 4.5745 - val_accuracy: 0.0140\n",
            "Epoch 73/100\n",
            "1563/1563 [==============================] - 6s 4ms/step - loss: 4.5675 - accuracy: 0.0132 - val_loss: 4.5744 - val_accuracy: 0.0139\n",
            "Epoch 74/100\n",
            "1563/1563 [==============================] - 7s 4ms/step - loss: 4.5675 - accuracy: 0.0134 - val_loss: 4.5745 - val_accuracy: 0.0139\n",
            "Epoch 75/100\n",
            "1563/1563 [==============================] - 6s 4ms/step - loss: 4.5675 - accuracy: 0.0133 - val_loss: 4.5746 - val_accuracy: 0.0140\n",
            "Epoch 76/100\n",
            "1563/1563 [==============================] - 7s 4ms/step - loss: 4.5675 - accuracy: 0.0137 - val_loss: 4.5750 - val_accuracy: 0.0140\n",
            "Epoch 77/100\n",
            "1563/1563 [==============================] - 7s 4ms/step - loss: 4.5675 - accuracy: 0.0136 - val_loss: 4.5751 - val_accuracy: 0.0141\n",
            "Epoch 78/100\n",
            "1563/1563 [==============================] - 7s 4ms/step - loss: 4.5674 - accuracy: 0.0131 - val_loss: 4.5739 - val_accuracy: 0.0140\n",
            "Epoch 79/100\n",
            "1563/1563 [==============================] - 7s 4ms/step - loss: 4.5675 - accuracy: 0.0128 - val_loss: 4.5754 - val_accuracy: 0.0140\n",
            "Epoch 80/100\n",
            "1563/1563 [==============================] - 8s 5ms/step - loss: 4.5674 - accuracy: 0.0139 - val_loss: 4.5736 - val_accuracy: 0.0140\n",
            "Epoch 81/100\n",
            "1563/1563 [==============================] - 7s 4ms/step - loss: 4.5674 - accuracy: 0.0136 - val_loss: 4.5746 - val_accuracy: 0.0140\n",
            "Epoch 82/100\n",
            "1563/1563 [==============================] - 6s 4ms/step - loss: 4.5675 - accuracy: 0.0130 - val_loss: 4.5748 - val_accuracy: 0.0140\n",
            "Epoch 83/100\n",
            "1563/1563 [==============================] - 6s 4ms/step - loss: 4.5674 - accuracy: 0.0135 - val_loss: 4.5739 - val_accuracy: 0.0140\n",
            "Epoch 84/100\n",
            "1563/1563 [==============================] - 7s 4ms/step - loss: 4.5674 - accuracy: 0.0133 - val_loss: 4.5742 - val_accuracy: 0.0140\n",
            "Epoch 85/100\n",
            "1563/1563 [==============================] - 6s 4ms/step - loss: 4.5675 - accuracy: 0.0131 - val_loss: 4.5738 - val_accuracy: 0.0140\n",
            "Epoch 86/100\n",
            "1563/1563 [==============================] - 6s 4ms/step - loss: 4.5675 - accuracy: 0.0131 - val_loss: 4.5739 - val_accuracy: 0.0140\n",
            "Epoch 87/100\n",
            "1563/1563 [==============================] - 7s 4ms/step - loss: 4.5675 - accuracy: 0.0129 - val_loss: 4.5810 - val_accuracy: 0.0140\n",
            "Epoch 88/100\n",
            "1563/1563 [==============================] - 7s 4ms/step - loss: 4.5675 - accuracy: 0.0130 - val_loss: 4.5805 - val_accuracy: 0.0140\n",
            "Epoch 89/100\n",
            "1563/1563 [==============================] - 7s 4ms/step - loss: 4.5674 - accuracy: 0.0127 - val_loss: 4.5816 - val_accuracy: 0.0139\n",
            "Epoch 90/100\n",
            "1563/1563 [==============================] - 6s 4ms/step - loss: 4.5675 - accuracy: 0.0132 - val_loss: 4.5804 - val_accuracy: 0.0140\n",
            "Epoch 91/100\n",
            "1563/1563 [==============================] - 6s 4ms/step - loss: 4.5675 - accuracy: 0.0129 - val_loss: 4.5798 - val_accuracy: 0.0140\n",
            "Epoch 92/100\n",
            "1563/1563 [==============================] - 6s 4ms/step - loss: 4.5675 - accuracy: 0.0136 - val_loss: 4.5810 - val_accuracy: 0.0140\n",
            "Epoch 93/100\n",
            "1563/1563 [==============================] - 7s 4ms/step - loss: 4.5674 - accuracy: 0.0133 - val_loss: 4.5809 - val_accuracy: 0.0140\n",
            "Epoch 94/100\n",
            "1563/1563 [==============================] - 6s 4ms/step - loss: 4.5675 - accuracy: 0.0137 - val_loss: 4.5810 - val_accuracy: 0.0140\n",
            "Epoch 95/100\n",
            "1563/1563 [==============================] - 7s 4ms/step - loss: 4.5674 - accuracy: 0.0133 - val_loss: 4.5807 - val_accuracy: 0.0140\n",
            "Epoch 96/100\n",
            "1563/1563 [==============================] - 7s 4ms/step - loss: 4.5674 - accuracy: 0.0135 - val_loss: 4.5814 - val_accuracy: 0.0140\n",
            "Epoch 97/100\n",
            "1563/1563 [==============================] - 7s 4ms/step - loss: 4.5674 - accuracy: 0.0139 - val_loss: 4.5801 - val_accuracy: 0.0140\n",
            "Epoch 98/100\n",
            "1563/1563 [==============================] - 6s 4ms/step - loss: 4.5674 - accuracy: 0.0135 - val_loss: 4.5799 - val_accuracy: 0.0140\n",
            "Epoch 99/100\n",
            "1563/1563 [==============================] - 7s 4ms/step - loss: 4.5674 - accuracy: 0.0140 - val_loss: 4.5803 - val_accuracy: 0.0140\n",
            "Epoch 100/100\n",
            "1563/1563 [==============================] - 7s 4ms/step - loss: 4.5675 - accuracy: 0.0138 - val_loss: 4.5806 - val_accuracy: 0.0140\n"
          ],
          "name": "stdout"
        }
      ]
    },
    {
      "cell_type": "code",
      "metadata": {
        "id": "NZ1LYrUFRjzo",
        "outputId": "94b7f0e4-b82d-48eb-9965-7403225866cf",
        "colab": {
          "base_uri": "https://localhost:8080/",
          "height": 300
        }
      },
      "source": [
        "plt.plot(history.history['accuracy'], label='accuracy')\n",
        "plt.plot(history.history['val_accuracy'], label='val_accuracy')\n",
        "plt.xlabel('Epoch')\n",
        "plt.ylabel('Accuracy')\n",
        "plt.ylim([0,1])\n",
        "plt.legend(loc='lower right')\n",
        "\n",
        "test_loss, test_acc = model.evaluate(test_images, test_labels)"
      ],
      "execution_count": 12,
      "outputs": [
        {
          "output_type": "stream",
          "text": [
            "313/313 [==============================] - 1s 2ms/step - loss: 4.5724 - accuracy: 0.0140\n"
          ],
          "name": "stdout"
        },
        {
          "output_type": "display_data",
          "data": {
            "image/png": "[encoded data removed]",
            "text/plain": [
              "<Figure size 432x288 with 1 Axes>"
            ]
          },
          "metadata": {
            "tags": [],
            "needs_background": "light"
          }
        }
      ]
    }
  ]
}